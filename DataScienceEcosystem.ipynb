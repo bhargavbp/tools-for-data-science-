{
 "cells": [
  {
   "cell_type": "markdown",
   "id": "6dbebc69-828f-4dd8-b874-c385b55ba7e7",
   "metadata": {
    "tags": []
   },
   "source": [
    "#Data Science Tools and Ecosystem"
   ]
  },
  {
   "cell_type": "markdown",
   "id": "3f5e382d-4024-4fd2-9de3-7e29a7e6d964",
   "metadata": {
    "tags": []
   },
   "source": [
    "##In this notebook, Data Science Tools and Ecosystem are summarized."
   ]
  },
  {
   "cell_type": "markdown",
   "id": "dcd90ca3-850c-4ee8-84c0-5feb094737c4",
   "metadata": {
    "tags": []
   },
   "source": [
    "#Some of the popular languages that Data Scientists use are:\n",
    "-Python\n",
    "-R\n",
    "-Julia\n",
    "-Scala"
   ]
  },
  {
   "cell_type": "markdown",
   "id": "f8e37b70-b610-4f71-aa8b-0d8c0a127c6a",
   "metadata": {},
   "source": [
    "#Some of the commonly used libraries used by Data Scientists include:\n",
    "-pandas\n",
    "-numpy\n",
    "-nltk\n",
    "-matplotlib\n",
    "-keras"
   ]
  },
  {
   "cell_type": "markdown",
   "id": "4b31e825-acfa-4b8d-bce2-76966a0b8bbb",
   "metadata": {},
   "source": [
    "| Data Science Tools | \n",
    ":--------:|\n",
    "|  RStudio   |\n",
    "|  Apache Spark   |\n",
    "|  TensorFlow   | "
   ]
  },
  {
   "cell_type": "markdown",
   "id": "d027687d-c28d-4dfc-add0-2397c0c4f7a7",
   "metadata": {
    "tags": []
   },
   "source": [
    "###Below are a few examples of evaluating arithmetic expressions in Python"
   ]
  },
  {
   "cell_type": "code",
   "execution_count": 12,
   "id": "7698ea18-8146-488f-9cf5-44f2200884c2",
   "metadata": {
    "tags": []
   },
   "outputs": [
    {
     "data": {
      "text/plain": [
       "5"
      ]
     },
     "execution_count": 12,
     "metadata": {},
     "output_type": "execute_result"
    }
   ],
   "source": [
    "(3+2)"
   ]
  },
  {
   "cell_type": "code",
   "execution_count": 13,
   "id": "f0beff8b-a6da-45de-bfed-d148b9f506be",
   "metadata": {
    "tags": []
   },
   "outputs": [
    {
     "data": {
      "text/plain": [
       "1"
      ]
     },
     "execution_count": 13,
     "metadata": {},
     "output_type": "execute_result"
    }
   ],
   "source": [
    "(3-2)"
   ]
  },
  {
   "cell_type": "code",
   "execution_count": 14,
   "id": "e5a14203-97cd-4965-b116-6d704e1457b4",
   "metadata": {
    "tags": []
   },
   "outputs": [
    {
     "data": {
      "text/plain": [
       "6"
      ]
     },
     "execution_count": 14,
     "metadata": {},
     "output_type": "execute_result"
    }
   ],
   "source": [
    "(3*2)"
   ]
  },
  {
   "cell_type": "code",
   "execution_count": 16,
   "id": "4a83b41a-5f22-40e0-a3d6-902475a7319f",
   "metadata": {
    "tags": []
   },
   "outputs": [
    {
     "data": {
      "text/plain": [
       "2.0"
      ]
     },
     "execution_count": 16,
     "metadata": {},
     "output_type": "execute_result"
    }
   ],
   "source": [
    "(4/2)"
   ]
  },
  {
   "cell_type": "code",
   "execution_count": 17,
   "id": "2f670da4-d7fe-43d2-975e-d0f9c5441fa9",
   "metadata": {
    "tags": []
   },
   "outputs": [
    {
     "data": {
      "text/plain": [
       "17"
      ]
     },
     "execution_count": 17,
     "metadata": {},
     "output_type": "execute_result"
    }
   ],
   "source": [
    "(3*4)+5"
   ]
  },
  {
   "cell_type": "code",
   "execution_count": 18,
   "id": "7fc0f3b1-c684-46d1-a71e-d47fef3bf97c",
   "metadata": {
    "tags": []
   },
   "outputs": [
    {
     "data": {
      "text/plain": [
       "3.3333333333333335"
      ]
     },
     "execution_count": 18,
     "metadata": {},
     "output_type": "execute_result"
    }
   ],
   "source": [
    "#This will convert 200 minutes to hours by diving by 60\n",
    "(200/60)"
   ]
  },
  {
   "cell_type": "markdown",
   "id": "cf2fce62-ad61-4cea-84bf-6837ef9ced25",
   "metadata": {},
   "source": [
    "**objectives**"
   ]
  },
  {
   "cell_type": "markdown",
   "id": "27c79954-5444-44ce-8f9f-d50d3e254553",
   "metadata": {},
   "source": [
    "1. List popular languages for Data Science\n",
    "    - Python\n",
    "    - Scala\n",
    "    - R\n",
    "2. List of libraries\n",
    "    - Pandas\n",
    "    - Numpy\n",
    "    - Keras\n",
    "    - Matplotlib\n",
    "3. Arithmetic operations\n",
    "    - Addition\n",
    "    - Substraction\n",
    "    - Multiplication\n",
    "    - Division"
   ]
  },
  {
   "cell_type": "markdown",
   "id": "2b022919-be20-4493-a584-adbabf7b31b4",
   "metadata": {},
   "source": [
    "##Author"
   ]
  },
  {
   "cell_type": "markdown",
   "id": "24ebf8c1-426f-4204-abc9-c529f8b25624",
   "metadata": {},
   "source": [
    "###Bhargav Petkar"
   ]
  },
  {
   "cell_type": "code",
   "execution_count": null,
   "id": "10d9190f-4bc9-4095-9939-6f48a8ad8896",
   "metadata": {},
   "outputs": [],
   "source": []
  }
 ],
 "metadata": {
  "kernelspec": {
   "display_name": "Python",
   "language": "python",
   "name": "conda-env-python-py"
  },
  "language_info": {
   "codemirror_mode": {
    "name": "ipython",
    "version": 3
   },
   "file_extension": ".py",
   "mimetype": "text/x-python",
   "name": "python",
   "nbconvert_exporter": "python",
   "pygments_lexer": "ipython3",
   "version": "3.7.12"
  }
 },
 "nbformat": 4,
 "nbformat_minor": 5
}
